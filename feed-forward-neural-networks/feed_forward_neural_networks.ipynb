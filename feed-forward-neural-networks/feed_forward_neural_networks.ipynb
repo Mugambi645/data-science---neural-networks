{
  "nbformat": 4,
  "nbformat_minor": 0,
  "metadata": {
    "colab": {
      "provenance": []
    },
    "kernelspec": {
      "name": "python3",
      "display_name": "Python 3"
    },
    "language_info": {
      "name": "python"
    }
  },
  "cells": [
    {
      "cell_type": "markdown",
      "source": [
        "A feedforward neural network consists of layers of neurons where information flows in one direction: from input to output. Each neuron computes a weighted sum of its inputs, applies an activation function, and passes the result to the next layer."
      ],
      "metadata": {
        "id": "xyUdv4a6thXD"
      }
    },
    {
      "cell_type": "markdown",
      "source": [],
      "metadata": {
        "id": "YRL-BRT_tjxj"
      }
    },
    {
      "cell_type": "markdown",
      "source": [
        "Key equations:\n",
        "- Weighted sum: z = Wx + b\n",
        "- Activation function for non-linearity: a = f(z)\n",
        "- Loss function: Binary cross-enthropy loss for classification"
      ],
      "metadata": {
        "id": "dzhlvnVLtmHc"
      }
    },
    {
      "cell_type": "markdown",
      "source": [
        "1. Import libraries"
      ],
      "metadata": {
        "id": "xJkRLw_bxDu3"
      }
    },
    {
      "cell_type": "code",
      "source": [
        "import numpy as np\n",
        "from tensorflow.keras.models import Sequential\n",
        "from tensorflow.keras.layers import Dense"
      ],
      "metadata": {
        "id": "1t4HllHyxI6v"
      },
      "execution_count": null,
      "outputs": []
    },
    {
      "cell_type": "markdown",
      "source": [
        "2. Prepare the dataset"
      ],
      "metadata": {
        "id": "mMF6BranxU7m"
      }
    },
    {
      "cell_type": "code",
      "source": [
        "# Create dummy data for training\n",
        "X_train_data = np.random.random((1000, 10)) #1000 samples, 10 features\n",
        "y_train_data = np.random.randint(2, size=(1000, 1)) # Output 1, binary\n"
      ],
      "metadata": {
        "id": "IbjxLFocxiAk"
      },
      "execution_count": null,
      "outputs": []
    },
    {
      "cell_type": "markdown",
      "source": [
        "3. Build the Model\n"
      ],
      "metadata": {
        "id": "OPVNEI5dyHsd"
      }
    },
    {
      "cell_type": "code",
      "source": [
        "# Create a FNN model\n",
        "model = Sequential()\n",
        "model.add(Dense(10, activation=\"relu\", input_dim=10)) # Hidden layer with relu activation for non-linearity\n",
        "model.add(Dense(1, activation=\"sigmoid\")) #output layer with sigmoid activation for binary classification,transforms numbers into the range (0, 1)\n"
      ],
      "metadata": {
        "colab": {
          "base_uri": "https://localhost:8080/"
        },
        "id": "2WUkE8geyLtf",
        "outputId": "719b55f0-6dca-4a70-94db-0154f0123f64"
      },
      "execution_count": null,
      "outputs": [
        {
          "output_type": "stream",
          "name": "stderr",
          "text": [
            "/usr/local/lib/python3.10/dist-packages/keras/src/layers/core/dense.py:87: UserWarning: Do not pass an `input_shape`/`input_dim` argument to a layer. When using Sequential models, prefer using an `Input(shape)` object as the first layer in the model instead.\n",
            "  super().__init__(activity_regularizer=activity_regularizer, **kwargs)\n"
          ]
        }
      ]
    },
    {
      "cell_type": "markdown",
      "source": [
        "4. Compile the Model\n"
      ],
      "metadata": {
        "id": "cO_3FTIfzIyM"
      }
    },
    {
      "cell_type": "code",
      "source": [
        "# Specify the optimizer, loss function and metrics for loss\n",
        "model.compile(optimizer=\"adam\", loss=\"binary_crossentropy\", metrics=[\"accuracy\"])"
      ],
      "metadata": {
        "id": "5v8H0u7zzM0w"
      },
      "execution_count": null,
      "outputs": []
    },
    {
      "cell_type": "markdown",
      "source": [
        "- Optimizer: Adam is an efficient optimization algorithm that adjusts learning rates dynamically.\n",
        "- Loss Function: Binary crossentropy is suitable for binary classification tasks.\n",
        "- Metrics: Accuracy is tracked during training."
      ],
      "metadata": {
        "id": "ZKHqw9jazrph"
      }
    },
    {
      "cell_type": "markdown",
      "source": [
        "5. Train the Model\n"
      ],
      "metadata": {
        "id": "2tgaIeFPzztD"
      }
    },
    {
      "cell_type": "code",
      "source": [
        "model.fit(X_train_data, y_train_data, epochs=10, batch_size=32)"
      ],
      "metadata": {
        "colab": {
          "base_uri": "https://localhost:8080/"
        },
        "id": "ej7H6LEOz4cq",
        "outputId": "2039bf97-0ea7-4efd-caea-6dd1709b43c4"
      },
      "execution_count": null,
      "outputs": [
        {
          "output_type": "stream",
          "name": "stdout",
          "text": [
            "Epoch 1/10\n",
            "\u001b[1m32/32\u001b[0m \u001b[32m━━━━━━━━━━━━━━━━━━━━\u001b[0m\u001b[37m\u001b[0m \u001b[1m1s\u001b[0m 2ms/step - accuracy: 0.4918 - loss: 0.7284   \n",
            "Epoch 2/10\n",
            "\u001b[1m32/32\u001b[0m \u001b[32m━━━━━━━━━━━━━━━━━━━━\u001b[0m\u001b[37m\u001b[0m \u001b[1m0s\u001b[0m 1ms/step - accuracy: 0.4883 - loss: 0.7122 \n",
            "Epoch 3/10\n",
            "\u001b[1m32/32\u001b[0m \u001b[32m━━━━━━━━━━━━━━━━━━━━\u001b[0m\u001b[37m\u001b[0m \u001b[1m0s\u001b[0m 1ms/step - accuracy: 0.5092 - loss: 0.7053 \n",
            "Epoch 4/10\n",
            "\u001b[1m32/32\u001b[0m \u001b[32m━━━━━━━━━━━━━━━━━━━━\u001b[0m\u001b[37m\u001b[0m \u001b[1m0s\u001b[0m 1ms/step - accuracy: 0.5045 - loss: 0.7100 \n",
            "Epoch 5/10\n",
            "\u001b[1m32/32\u001b[0m \u001b[32m━━━━━━━━━━━━━━━━━━━━\u001b[0m\u001b[37m\u001b[0m \u001b[1m0s\u001b[0m 1ms/step - accuracy: 0.5110 - loss: 0.7030 \n",
            "Epoch 6/10\n",
            "\u001b[1m32/32\u001b[0m \u001b[32m━━━━━━━━━━━━━━━━━━━━\u001b[0m\u001b[37m\u001b[0m \u001b[1m0s\u001b[0m 2ms/step - accuracy: 0.5062 - loss: 0.7015 \n",
            "Epoch 7/10\n",
            "\u001b[1m32/32\u001b[0m \u001b[32m━━━━━━━━━━━━━━━━━━━━\u001b[0m\u001b[37m\u001b[0m \u001b[1m0s\u001b[0m 1ms/step - accuracy: 0.5228 - loss: 0.6978 \n",
            "Epoch 8/10\n",
            "\u001b[1m32/32\u001b[0m \u001b[32m━━━━━━━━━━━━━━━━━━━━\u001b[0m\u001b[37m\u001b[0m \u001b[1m0s\u001b[0m 2ms/step - accuracy: 0.4945 - loss: 0.6999\n",
            "Epoch 9/10\n",
            "\u001b[1m32/32\u001b[0m \u001b[32m━━━━━━━━━━━━━━━━━━━━\u001b[0m\u001b[37m\u001b[0m \u001b[1m0s\u001b[0m 2ms/step - accuracy: 0.4817 - loss: 0.7010\n",
            "Epoch 10/10\n",
            "\u001b[1m32/32\u001b[0m \u001b[32m━━━━━━━━━━━━━━━━━━━━\u001b[0m\u001b[37m\u001b[0m \u001b[1m0s\u001b[0m 1ms/step - accuracy: 0.5104 - loss: 0.6966 \n"
          ]
        },
        {
          "output_type": "execute_result",
          "data": {
            "text/plain": [
              "<keras.src.callbacks.history.History at 0x7de9603e1cf0>"
            ]
          },
          "metadata": {},
          "execution_count": 5
        }
      ]
    },
    {
      "cell_type": "code",
      "source": [],
      "metadata": {
        "id": "XKt40tkD0B6L"
      },
      "execution_count": null,
      "outputs": []
    },
    {
      "cell_type": "markdown",
      "source": [
        "6. Evaluate the Model\n"
      ],
      "metadata": {
        "id": "SK_uplhW0OOF"
      }
    },
    {
      "cell_type": "code",
      "source": [
        "X_test_data = np.random.random((200, 10)) # Generate test data\n",
        "y_test_data = np.random.randint(2, size=(200, 1))\n",
        "loss, accuracy = model.evaluate(X_test_data, y_test_data)\n",
        "print(f\"Loss: {loss}, Accuracy: {accuracy}\")"
      ],
      "metadata": {
        "colab": {
          "base_uri": "https://localhost:8080/"
        },
        "id": "cVnk3qhK0TB6",
        "outputId": "178010f3-1c32-4df8-f5a6-513d5cbc0a90"
      },
      "execution_count": null,
      "outputs": [
        {
          "output_type": "stream",
          "name": "stdout",
          "text": [
            "\u001b[1m7/7\u001b[0m \u001b[32m━━━━━━━━━━━━━━━━━━━━\u001b[0m\u001b[37m\u001b[0m \u001b[1m0s\u001b[0m 2ms/step - accuracy: 0.4621 - loss: 0.7070  \n",
            "Loss: 0.6977482438087463, Accuracy: 0.5099999904632568\n"
          ]
        }
      ]
    },
    {
      "cell_type": "markdown",
      "source": [
        "7. Visualizing model Complexity"
      ],
      "metadata": {
        "id": "MqhSDnFr0595"
      }
    },
    {
      "cell_type": "code",
      "source": [
        "# Generate a visual representation of the neural network architecture\n",
        "from tensorflow.keras.utils import plot_model\n",
        "plot_model(model, show_shapes=True)"
      ],
      "metadata": {
        "colab": {
          "base_uri": "https://localhost:8080/",
          "height": 389
        },
        "id": "3NuuDLoh0_ev",
        "outputId": "0cb37d2a-4f6f-47ee-f78b-709f615abd2c"
      },
      "execution_count": null,
      "outputs": [
        {
          "output_type": "execute_result",
          "data": {
            "image/png": "[encoded data removed]",
            "text/plain": [
              "<IPython.core.display.Image object>"
            ]
          },
          "metadata": {},
          "execution_count": 8
        }
      ]
    },
    {
      "cell_type": "code",
      "source": [],
      "metadata": {
        "id": "9vhrBQOU1Icl"
      },
      "execution_count": null,
      "outputs": []
    }
  ]
}